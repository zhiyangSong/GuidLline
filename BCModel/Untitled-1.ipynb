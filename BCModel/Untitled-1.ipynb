{
 "cells": [
  {
   "cell_type": "code",
   "execution_count": 2,
   "metadata": {},
   "outputs": [],
   "source": [
    "import torch\n",
    "\n",
    "\n"
   ]
  },
  {
   "cell_type": "code",
   "execution_count": 20,
   "metadata": {},
   "outputs": [
    {
     "name": "stdout",
     "output_type": "stream",
     "text": [
      "tensor([[0.]])\n"
     ]
    }
   ],
   "source": [
    "loss = torch.zeros([1,1])\n",
    "print(loss)"
   ]
  },
  {
   "cell_type": "code",
   "execution_count": 21,
   "metadata": {},
   "outputs": [
    {
     "name": "stdout",
     "output_type": "stream",
     "text": [
      "tensor([[ 1,  2],\n",
      "        [ 3,  4],\n",
      "        [ 5,  6],\n",
      "        [ 7,  8],\n",
      "        [ 9, 10],\n",
      "        [11, 12],\n",
      "        [13, 14],\n",
      "        [15, 16],\n",
      "        [17, 18]])\n",
      "tensor([[ 1,  2],\n",
      "        [ 3,  4],\n",
      "        [ 5,  6],\n",
      "        [ 7,  8],\n",
      "        [ 9, 10],\n",
      "        [11, 12],\n",
      "        [13, 14],\n",
      "        [15, 16],\n",
      "        [17, 18]])\n"
     ]
    }
   ],
   "source": [
    "y = torch.tensor([1,2,3,4,5,6,7,8,9,10,11,12,13,14,15,16,17,18])\n",
    "pred = torch.tensor([1,2,3,4,5,6,7,8,9,10,11,12,13,14,15,16,17,18])\n",
    "y = y.reshape(-1,2)\n",
    "pred = pred.reshape(-1,2)\n",
    "print(y)\n",
    "print(pred)"
   ]
  },
  {
   "cell_type": "code",
   "execution_count": 23,
   "metadata": {},
   "outputs": [
    {
     "name": "stdout",
     "output_type": "stream",
     "text": [
      "tensor([[0.]])\n"
     ]
    }
   ],
   "source": [
    "for i in range(9):\n",
    "                    loss  += ((pred[i][0]- y[i][0])**2 +(pred[i][1]- y[i][1])**2)\n",
    "print(loss)\n"
   ]
  }
 ],
 "metadata": {
  "interpreter": {
   "hash": "29bc1dca7b697f9fe7c0b3d689d9cf17d89e1303d576dbc3ea18e9d934c831bf"
  },
  "kernelspec": {
   "display_name": "Python 3.6.13 ('ddd')",
   "language": "python",
   "name": "python3"
  },
  "language_info": {
   "codemirror_mode": {
    "name": "ipython",
    "version": 3
   },
   "file_extension": ".py",
   "mimetype": "text/x-python",
   "name": "python",
   "nbconvert_exporter": "python",
   "pygments_lexer": "ipython3",
   "version": "3.6.13"
  },
  "orig_nbformat": 4
 },
 "nbformat": 4,
 "nbformat_minor": 2
}
