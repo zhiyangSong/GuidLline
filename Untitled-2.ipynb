{
 "cells": [
  {
   "cell_type": "code",
   "execution_count": 4,
   "metadata": {},
   "outputs": [],
   "source": [
    "from process2 import *\n",
    "import matplotlib.pyplot as plt"
   ]
  },
  {
   "cell_type": "code",
   "execution_count": 41,
   "metadata": {},
   "outputs": [
    {
     "name": "stdout",
     "output_type": "stream",
     "text": [
      "[-100, -1000]\n",
      "-0.9999791561557895\n",
      "0.00645656673126772\n",
      "[[ 0.         -0.          0.          0.        ]\n",
      " [ 0.98706602  2.00641488  0.          0.        ]\n",
      " [ 1.98058861  3.0128506   0.          0.        ]]\n",
      "[[   93.54134888 -1000.62481283     0.             0.        ]\n",
      " [   92.54134888 -1002.62481283     0.             0.        ]\n",
      " [   91.54134888 -1003.62481283     0.             0.        ]]\n"
     ]
    },
    {
     "data": {
      "text/plain": [
       "[<matplotlib.lines.Line2D at 0x7fc8619af4a8>]"
      ]
     },
     "execution_count": 41,
     "metadata": {},
     "output_type": "execute_result"
    },
    {
     "data": {
      "image/png": "[encoded data removed]",
      "text/plain": [
       "<Figure size 432x288 with 1 Axes>"
      ]
     },
     "metadata": {
      "needs_background": "light"
     },
     "output_type": "display_data"
    }
   ],
   "source": [
    "from process2 import *\n",
    "import matplotlib.pyplot as plt\n",
    "\n",
    "tra = np.array([[-100 ,-1000,-1.31228e+01  ,8.47300e-02],\n",
    " [-101 ,-1002 ,-1.31221e+01 , 8.82264e-02],\n",
    " [-102, -1003, -1.31219e+01 , 9.05928e-02]])\n",
    "point = [-100 ,-1000] \n",
    "\n",
    "print(point)\n",
    "cos  = tra[0,2] / math.sqrt(tra[0, 2]**2 + tra[0, 3]**2)\n",
    "sin = tra[0,3] / math.sqrt(tra[0, 2]**2 + tra[0, 3]**2)\n",
    "print(cos)\n",
    "print(sin)\n",
    "\n",
    "rotDirec =0\n",
    "newtra = rot(tra =tra , point =point, sin  = sin , cos = cos,rotDirec = 0)\n",
    "print(newtra)\n",
    "plt.plot(newtra[:,0] , newtra[:,1])\n",
    "\n",
    "newtra = rot(tra =newtra , point =point, sin  = sin , cos = cos,rotDirec = 1)\n",
    "print(newtra)\n",
    "plt.plot(newtra[:,0] , newtra[:,1])"
   ]
  },
  {
   "cell_type": "code",
   "execution_count": null,
   "metadata": {},
   "outputs": [],
   "source": [
    "label =np.array( [[ 0.   ,      -0.        ],\n",
    " [28.85010338 ,-0.1652167 ],\n",
    " [35.45703586 ,-0.34513106],\n",
    " [57.24489104 , 0.10511759],\n",
    " [66.71041686 , 1.56281148],\n",
    " [79.46129518 , 2.33992236],\n",
    " [87.45706049 , 2.40676842],\n",
    " [94.16614118 , 2.48543229],\n",
    " [96.47104423 , 2.47292328]])\n",
    "\n",
    "\n",
    "\n"
   ]
  },
  {
   "cell_type": "code",
   "execution_count": 23,
   "metadata": {},
   "outputs": [
    {
     "name": "stdout",
     "output_type": "stream",
     "text": [
      "[-100.231, -1184.26]\n",
      "[[-1.00231e+02 -1.18426e+03 -1.31228e+01  8.47300e-02]\n",
      " [-1.00493e+02 -1.18426e+03 -1.31221e+01  8.82264e-02]\n",
      " [-1.00755e+02 -1.18426e+03 -1.31219e+01  9.05928e-02]\n",
      " ...\n",
      " [-1.99699e+02 -1.18608e+03 -5.19223e+00  2.88139e-02]\n",
      " [-1.99803e+02 -1.18608e+03 -5.16749e+00  2.71004e-02]\n",
      " [-1.99905e+02 -1.18608e+03 -5.14149e+00  2.66666e-02]]\n",
      "[[ 0.00000000e+00 -0.00000000e+00  0.00000000e+00  0.00000000e+00]\n",
      " [ 2.61994539e-01  1.69162048e-03  0.00000000e+00  0.00000000e+00]\n",
      " [ 5.23989078e-01  3.38324097e-03  0.00000000e+00  0.00000000e+00]\n",
      " ...\n",
      " [ 9.94541758e+01  2.46218384e+00  0.00000000e+00  0.00000000e+00]\n",
      " [ 9.95581736e+01  2.46285533e+00  0.00000000e+00  0.00000000e+00]\n",
      " [ 9.96601715e+01  2.46351390e+00  0.00000000e+00  0.00000000e+00]]\n",
      "[[ -107.87516452 -1183.58816733     0.             0.        ]\n",
      " [ -108.13716452 -1183.58816733     0.             0.        ]\n",
      " [ -108.39916452 -1183.58816733     0.             0.        ]\n",
      " ...\n",
      " [ -207.34316452 -1185.40816733     0.             0.        ]\n",
      " [ -207.44716452 -1185.40816733     0.             0.        ]\n",
      " [ -207.54916452 -1185.40816733     0.             0.        ]]\n"
     ]
    }
   ],
   "source": [
    "traDir=\"./data/bag_20220111_4\"\n",
    "tra = np.load(\"{}/tra.npy\".format(traDir))\n",
    "point =[ tra[0,0] ,tra[0,1]]\n",
    "print(point)\n",
    "cos  = tra[0,2] / math.sqrt(tra[0, 2]**2 + tra[0, 3]**2)\n",
    "sin = tra[0,3] / math.sqrt(tra[0, 2]**2 + tra[0, 3]**2)\n",
    "\n",
    "print(tra)\n",
    "newtra = rot(tra =tra , point =point, sin  = sin , cos = cos,rotDirec = 0)\n",
    "print(newtra)\n",
    "newtra = rot(tra =newtra , point =point, sin  = sin , cos = cos,rotDirec = 1)\n",
    "print(newtra)"
   ]
  }
 ],
 "metadata": {
  "interpreter": {
   "hash": "29bc1dca7b697f9fe7c0b3d689d9cf17d89e1303d576dbc3ea18e9d934c831bf"
  },
  "kernelspec": {
   "display_name": "Python 3.6.13 ('ddd')",
   "language": "python",
   "name": "python3"
  },
  "language_info": {
   "codemirror_mode": {
    "name": "ipython",
    "version": 3
   },
   "file_extension": ".py",
   "mimetype": "text/x-python",
   "name": "python",
   "nbconvert_exporter": "python",
   "pygments_lexer": "ipython3",
   "version": "3.6.13"
  },
  "orig_nbformat": 4
 },
 "nbformat": 4,
 "nbformat_minor": 2
}
